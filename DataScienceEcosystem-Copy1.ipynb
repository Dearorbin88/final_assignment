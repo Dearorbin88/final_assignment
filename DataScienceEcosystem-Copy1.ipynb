{
 "cells": [
  {
   "cell_type": "markdown",
   "id": "9487627e",
   "metadata": {},
   "source": [
    "# Data science Tools and Ecosystem\n"
   ]
  },
  {
   "cell_type": "markdown",
   "id": "72790de4",
   "metadata": {},
   "source": [
    "In this notebook, Data science tools and Ecosystem are summarized."
   ]
  },
  {
   "cell_type": "markdown",
   "id": "a60984ef",
   "metadata": {},
   "source": [
    "**Objectives**\n",
    "\n",
    "* a brief introduction to Jupyter notebook \n",
    "* a brief ntroudction to jupyter lab \n",
    "* decription on how to use jupyter notebook and jupyter lab."
   ]
  },
  {
   "cell_type": "markdown",
   "id": "8811c36e",
   "metadata": {},
   "source": [
    "**List five popular languages for Data scientists**\n",
    "\n",
    "* Python\n",
    "* SQL\n",
    "* Scala\n",
    "* Java \n",
    "* C++"
   ]
  },
  {
   "cell_type": "markdown",
   "id": "f4f2fafe",
   "metadata": {},
   "source": [
    "Some of the popular languages that Data scientist use are :\n"
   ]
  },
  {
   "cell_type": "markdown",
   "id": "4e8995cb",
   "metadata": {},
   "source": [
    "Ordered List :\n",
    "1. Python\n",
    "2. SQL\n",
    "3. Scala"
   ]
  },
  {
   "cell_type": "markdown",
   "id": "8aa88f88",
   "metadata": {},
   "source": [
    "Some of the commonly used libraries used by Data Scientists include:\n",
    "\n"
   ]
  },
  {
   "cell_type": "markdown",
   "id": "c7cfdb24",
   "metadata": {},
   "source": [
    "Ordered List:\n",
    "1. Tenserflow\n",
    "2. Pandas\n",
    "3. Matplotlib"
   ]
  },
  {
   "cell_type": "markdown",
   "id": "ac2a71b3",
   "metadata": {},
   "source": [
    "|Data science tools|\n",
    "|------------------|\n",
    "|Hadoop|\n",
    "|Apache spark|\n",
    "|Jupyter Notebook|\n"
   ]
  },
  {
   "cell_type": "markdown",
   "id": "ef249f25",
   "metadata": {},
   "source": [
    "### Below are a few examples of evaluating arithmetic expressions in Python"
   ]
  },
  {
   "cell_type": "markdown",
   "id": "c9b2ca00",
   "metadata": {},
   "source": [
    "$ (5+4)*2 $"
   ]
  },
  {
   "cell_type": "code",
   "execution_count": 6,
   "id": "45f083b1",
   "metadata": {},
   "outputs": [],
   "source": [
    "#This a simple arithmetic expression to mutiply then add integers."
   ]
  },
  {
   "cell_type": "code",
   "execution_count": 7,
   "id": "f87bd95b",
   "metadata": {},
   "outputs": [
    {
     "data": {
      "text/plain": [
       "17"
      ]
     },
     "execution_count": 7,
     "metadata": {},
     "output_type": "execute_result"
    }
   ],
   "source": [
    "(3*4)+5"
   ]
  },
  {
   "cell_type": "markdown",
   "id": "16895ad2",
   "metadata": {},
   "source": [
    "#This will convert 200 minutes to hours by diving by 60"
   ]
  },
  {
   "cell_type": "code",
   "execution_count": 14,
   "id": "fd104c9d",
   "metadata": {},
   "outputs": [
    {
     "data": {
      "text/plain": [
       "3.3333333333333335"
      ]
     },
     "execution_count": 14,
     "metadata": {},
     "output_type": "execute_result"
    }
   ],
   "source": [
    "200/60 "
   ]
  },
  {
   "cell_type": "markdown",
   "id": "6e9202d9",
   "metadata": {},
   "source": [
    "#200 minutes equals to 3.34 hours."
   ]
  },
  {
   "cell_type": "markdown",
   "id": "56497c19",
   "metadata": {},
   "source": [
    "## Author\n",
    "Eeshwor Dahal "
   ]
  },
  {
   "cell_type": "code",
   "execution_count": null,
   "id": "29281a10",
   "metadata": {},
   "outputs": [],
   "source": []
  }
 ],
 "metadata": {
  "kernelspec": {
   "display_name": "Python 3 (ipykernel)",
   "language": "python",
   "name": "python3"
  },
  "language_info": {
   "codemirror_mode": {
    "name": "ipython",
    "version": 3
   },
   "file_extension": ".py",
   "mimetype": "text/x-python",
   "name": "python",
   "nbconvert_exporter": "python",
   "pygments_lexer": "ipython3",
   "version": "3.11.3"
  }
 },
 "nbformat": 4,
 "nbformat_minor": 5
}
